{
 "cells": [
  {
   "cell_type": "code",
   "execution_count": null,
   "id": "0ab80b1c",
   "metadata": {},
   "outputs": [],
   "source": [
    "def audio_file_to_fingerprints(S: np.ndarray, n):\n",
    "    \"\"\"Takes in the spectogram of a song S and the fanout value n\"\"\"\n",
    "    \n",
    "    # NATHANS CODE\n",
    "    log_S = np.log(S).ravel()  # ravel flattens 2D spectrogram into a 1D array\n",
    "    ind = round(len(log_S) * 0.9)  # find the index associated with the 90th percentile log-amplitude\n",
    "    cutoff_log_amp = np.partition(log_S, ind)[ind]  # find the actual 90th percentile log-amplitude\n",
    "    cutoff_log_amp\n",
    "    # END NATHANS CODE\n",
    "    \n",
    "    local_peak_locations = local_peaks_mask(S, cutoff_log_amp)\n",
    "    \n",
    "    fingerprint_arr = peaks_to_fingerprints(local_peak_locations, n)\n",
    "    \n",
    "    return fingerprint_arr"
   ]
  }
 ],
 "metadata": {
  "kernelspec": {
   "display_name": "Python 3 (ipykernel)",
   "language": "python",
   "name": "python3"
  },
  "language_info": {
   "codemirror_mode": {
    "name": "ipython",
    "version": 3
   },
   "file_extension": ".py",
   "mimetype": "text/x-python",
   "name": "python",
   "nbconvert_exporter": "python",
   "pygments_lexer": "ipython3",
   "version": "3.8.11"
  }
 },
 "nbformat": 4,
 "nbformat_minor": 5
}
