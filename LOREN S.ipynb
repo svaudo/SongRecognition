{
 "cells": [
  {
   "cell_type": "code",
   "execution_count": 37,
   "id": "0387b9f8",
   "metadata": {},
   "outputs": [],
   "source": [
    "#CONTINUE DEBUGGING"
   ]
  },
  {
   "cell_type": "code",
   "execution_count": 38,
   "id": "7bb4d034",
   "metadata": {},
   "outputs": [],
   "source": [
    "import numpy as np\n",
    "\n",
    "import matplotlib.pyplot as plt\n",
    "import matplotlib.mlab as mlab\n",
    "\n",
    "from collections import Counter\n",
    "\n",
    "%matplotlib notebook\n"
   ]
  },
  {
   "cell_type": "code",
   "execution_count": 39,
   "id": "9d5e79b7",
   "metadata": {
    "scrolled": true
   },
   "outputs": [],
   "source": [
    "def peaks_to_fingerprints (local_peaks: np.ndarray, n=15):\n",
    "    \"\"\"Takes in the array local_peaks of freq, time for each peak\n",
    "    for all of the local peaks in a section of a song and takes in\n",
    "    fanout value n.\n",
    "    \n",
    "    It will return fingerprints for each peak entered in an ndarray \n",
    "    \"\"\"\n",
    "    \n",
    "    pairs = form_peak_pairs(local_peaks)\n",
    "    peaks = points_to_data(pairs)\n",
    "\n",
    "    fingerprint = np.array([peaks_to_fanout(\n",
    "        peaks[\n",
    "            np.where(np.multiply(pairs[:,0,0] == i[0], pairs[:,0,1] == i[1]))],\n",
    "        n) for i in local_peaks if np.size(\n",
    "        np.where(np.multiply(pairs[:,0,0] == i[0], pairs[:,0,1] == i[1])))>= n])\n",
    "    \n",
    "    ### np.where(np.multiply(pairs[:,0,0] == i[0], pairs[:,0,1] == i[1])) is the index of the peak pair data (row containing it) for each peak i\n",
    "    ### comparing the first and second items of each peak with those of peak i\n",
    "    \n",
    "    \"\"\"\n",
    "    # GET RID OF FOOR LOOP\n",
    "    for i in local_peaks: # each peak...\n",
    "        indices = np.array(np.where(np.multiply(pairs[:,0,0] == i[0], pairs[:,0,1] == i[1]))) # index of peak pair data (row containing it) where first peak is peak i (can ignore the second peak since we are only looking forward)\n",
    "        \n",
    "        ### indices[i] --> (row) index of peak-pair P the array peaks (peaks[indices[i], : ] --> original data for peak-pair P)\n",
    "        \n",
    "        selected = peaks[indices, : ]\n",
    "        \n",
    "        if len(selected) >= n: # only going to add it if it's long enough\n",
    "            fanout = peaks_to_fanout(selected, n)\n",
    "    \"\"\"\n",
    "        \n",
    "    ### return array of the fingerprints for each peak\n",
    "    return fingerprint"
   ]
  },
  {
   "cell_type": "code",
   "execution_count": 40,
   "id": "52a430fc",
   "metadata": {},
   "outputs": [],
   "source": [
    "def form_peak_pairs(local_peaks: np.ndarray):\n",
    "    \"\"\"Takes in the array local_peaks of any number of rows and two columns freq and time\n",
    "    for each of the local peaks and returns an array of each peak-pair from these peaks\n",
    "    \"\"\"\n",
    "    \n",
    "    pairs = np.array([(peak1,peak2) for peak2 in local_peaks for peak1 in local_peaks if peak1[1] < peak2[1]])    \n",
    "    \n",
    "    return pairs"
   ]
  },
  {
   "cell_type": "code",
   "execution_count": 41,
   "id": "d5551d5c",
   "metadata": {},
   "outputs": [],
   "source": [
    "def points_to_data(points: np.ndarray):\n",
    "    \"\"\"Takes in an array of freq and time data for each peak in each peak-pair\n",
    "    (where the first listed is one that occurs first) and returns a 2d array\n",
    "    which contains three columns and number of rows equivalent to the number of \n",
    "    peak-pairs entered\n",
    "        Col 1 --> frequency at point 1 (point 1 must occur first)\n",
    "        Col 2 --> frequency at point 2\n",
    "        Col 3 --> time elapsed between points\n",
    "    \"\"\"\n",
    "    data = np.array([[pair[0,0], pair[1,0], pair[1,1]-pair[0,1]] for pair in points])\n",
    "    return data"
   ]
  },
  {
   "cell_type": "code",
   "execution_count": 42,
   "id": "9c759063",
   "metadata": {},
   "outputs": [],
   "source": [
    "def peaks_to_fanout(selected_peaks: np.ndarray, n):\n",
    "    \"\"\"Takes in a 2d array selected_peaks of selected peak-pair\n",
    "    data in the same formatting as the full array, and containing\n",
    "    all of the peak-pairs with a particular peak as peak 1. Also\n",
    "    takes in the fanout value n.\n",
    "    \n",
    "    Returns the fanout for this peak\n",
    "\n",
    "                                  [[fi, fi+1, delta_t(i,i+1)]\n",
    "                                   [fi, fi+2, delta_t(i,i+2)],\n",
    "        fanout (for peak i)  =               ...,\n",
    "                                   [fi, fi+n, delta_t(i,i+n)]]    \n",
    "    \"\"\"\n",
    "\n",
    "    delta_fs = selected_peaks[:,1]-selected_peaks[:,0] # array of change in frequencies for our peak pairs\n",
    "    delta_ts = selected_peaks[:,2] # array of change in times for our peak pairs\n",
    "\n",
    "    ### for each index i,\n",
    "    ###     selected_peaks[i] --> peak-pair P data (this is just a segment of the original data; just the peak-pairs contianing our particular peak)\n",
    "    ###     delta_fs[i]       --> change in frequency for peak-pair P\n",
    "    ###     delta_ts[i]       --> change in time for peak-pair P\n",
    "\n",
    "\n",
    "    # an array of indices pointing towards our selected peak-pair data\n",
    "    # (selected_peaks_sorted[i] --> index of i'th closest peak (index pointing towards our selected peak-pair data arrays))\n",
    "    selected_peaks_sorted = sort_peaks(delta_fs, delta_ts) \n",
    "\n",
    "    #selected_peaks_sorted[0:n] are the indices of the peaks within the fanout\n",
    "    fanout_inds = selected_peaks_sorted[0:n]\n",
    "    fanout_peaks = selected_peaks[fanout_inds]\n",
    "\n",
    "    ###    fanout for this peak = an array of [[fi, fi+1, delta_t(i,i+1)]\n",
    "    ###                                        [fi, fi+2, delta_t(i,i+2)],\n",
    "    ###                                                   ...,\n",
    "    ###                                        [fi, fi+n, delta_t(i,i+n)]]\n",
    "    \n",
    "    fanout = fanout_peaks[:,0:3]\n",
    "    return fanout"
   ]
  },
  {
   "cell_type": "code",
   "execution_count": 43,
   "id": "99cec442",
   "metadata": {},
   "outputs": [],
   "source": [
    "def sort_peaks (delta_fs: np.ndarray, delta_ts: np.ndarray):\n",
    "    \"\"\"Takes in two 1 dimensional nd arrays delta_fs and delta_ts\n",
    "    of the same length which both point towards data from the same\n",
    "    selected peak-pairs and for which the value of each at each same\n",
    "    index point to the same individual peak-pair\n",
    "        - this means that for each index i, delta_fs[i] and delta_ts[i]\n",
    "          correspond to the same peak-pair\n",
    "        - the delta_f and delta_t values should be from all of the\n",
    "          peak-pairs for which a particular peak is the first peak in\n",
    "          the pair\n",
    "    \n",
    "    It returns an nd array where the values of which represent the\n",
    "    indices of delta_ts, delta_fs, and other arrays which point to the\n",
    "    same data in the same order sorted by time then frequency (eg. the\n",
    "    first value of the output array is the index of the smallest\n",
    "    delta_t, second is the next smallest, etc. (where identical delta_ts\n",
    "    will be ordered by smallest delta_f to greatest))\n",
    "    \"\"\"\n",
    "    \n",
    "    \n",
    "    ### get indices sorted based on delta_t values of our selected data (sorted_t)\n",
    "    sorted_t = np.argsort(delta_ts)\n",
    "\n",
    "    # we need to make sure that any duplicate times are sorted by frequency:\n",
    "\n",
    "    #finding the time values\n",
    "    time_counts = Counter(delta_ts)\n",
    "    arr_counts = np.array(list(time_counts.items())) # an array of the items in the Counter time_counts\n",
    "    duplicates_ind = np.where(arr_counts[:,1] >1) # finding the indexes of where there are more than one of each time\n",
    "    if len(duplicates_ind) > 0: # only continue to sort if there are duplicates\n",
    "        duplicates_times = arr_counts[:, 0][duplicates_ind] #finding the time values based on the indices in the counter\n",
    "\n",
    "        # list of an array of indices of each duplicate time\n",
    "        # (indices are the indices pointing towards data in delta_fs, delta_ts, and t_sorted, NOT the values in t_sorted which will be used as indices (to get those do t_sorted[unsorted_by_freq]))\n",
    "        unsorted_by_freq = [list(np.where(delta_ts == time)[0]) for time in duplicates_times]\n",
    "\n",
    "        # list of an array containing the new index values pointed to by each array of indices in unsorted_by_freq, sorted by frequency\n",
    "        # (these values are the index values to put into the array of indices)\n",
    "        # each item = reorder of the values of sorted_t by sorting by frequency for each index_arr in the unsorted_by_freq lsit\n",
    "        sorted_by_freq = [list(sorted_t[index_arr][np.argsort(delta_fs[sorted_t[index_arr]])]) for index_arr in unsorted_by_freq]                \n",
    "        # put back in:\n",
    "        ## 'flattening' the lists so as to be able to index with them\n",
    "        flat_unsorted = []\n",
    "        flat_sorted = []\n",
    "        [[flat_unsorted.append(inner_vals) for inner_vals in value] for value in unsorted_by_freq]\n",
    "        [[flat_sorted.append(inner_vals) for inner_vals in value] for value in sorted_by_freq]\n",
    "        ## putting these into sorted\n",
    "        sorted_fully = sorted_t.copy()\n",
    "        sorted_fully[flat_unsorted] = flat_sorted\n",
    "        \n",
    "        return sorted_fully"
   ]
  },
  {
   "cell_type": "markdown",
   "id": "dbdfede1",
   "metadata": {},
   "source": [
    "        Col 1 --> frequency at point 1 (point 1 must occur first)\n",
    "        Col 2 --> frequency at point 2\n",
    "        Col 3 --> time elapsed between points\n",
    "        Col 4 --> tuple of point 1 (row, col) of the peak for identification purposes\n",
    "        Col 5 --> tuple of point 2 (row, col)"
   ]
  },
  {
   "cell_type": "code",
   "execution_count": 44,
   "id": "c42a3ec1",
   "metadata": {},
   "outputs": [],
   "source": [
    "test_peaks_arr = np.array([(4.5, 0.3), (5.6, 0.1), (2.1, 3.2), (4.3, 1.1), (3.4, 1.2), (0.9, 0.8),\n",
    "                       (6.6, 2.4), (0.1, 2.0), (5.5, 3.3), (5.6, 2.1), (4.1, 1.2), (6.3, 3.1),\n",
    "                       (0.4, 0.2), (0.8, 0.7), (6.7, 1.4), (1.1, 2.1)])"
   ]
  },
  {
   "cell_type": "code",
   "execution_count": 45,
   "id": "b863696f",
   "metadata": {},
   "outputs": [],
   "source": [
    "arr = np.array([(4.5, 0.3), (5.6, 0.1), (2.1, 3.2)])"
   ]
  },
  {
   "cell_type": "code",
   "execution_count": 46,
   "id": "f408d783",
   "metadata": {
    "scrolled": false
   },
   "outputs": [
    {
     "data": {
      "text/plain": [
       "array([[[5.6, 0.4, 0.1],\n",
       "        [5.6, 4.5, 0.2],\n",
       "        [5.6, 0.8, 0.6],\n",
       "        [5.6, 0.9, 0.7],\n",
       "        [5.6, 4.3, 1. ],\n",
       "        [5.6, 3.4, 1.1],\n",
       "        [5.6, 4.1, 1.1],\n",
       "        [5.6, 6.7, 1.3],\n",
       "        [5.6, 0.1, 1.9],\n",
       "        [5.6, 5.6, 2. ],\n",
       "        [5.6, 1.1, 2. ],\n",
       "        [5.6, 6.6, 2.3],\n",
       "        [5.6, 6.3, 3. ],\n",
       "        [5.6, 2.1, 3.1],\n",
       "        [5.6, 5.5, 3.2]]])"
      ]
     },
     "execution_count": 46,
     "metadata": {},
     "output_type": "execute_result"
    }
   ],
   "source": [
    "peaks_to_fingerprints(test_peaks_arr)"
   ]
  },
  {
   "cell_type": "code",
   "execution_count": 47,
   "id": "20d07d21",
   "metadata": {},
   "outputs": [],
   "source": [
    "arr2 = np.array([[[1,2],\n",
    "                  [3,6]],\n",
    "                \n",
    "                 [[1,6],\n",
    "                  [1,8]]])"
   ]
  },
  {
   "cell_type": "code",
   "execution_count": 48,
   "id": "e5c61ecf",
   "metadata": {},
   "outputs": [
    {
     "data": {
      "text/plain": [
       "(array([1], dtype=int64),)"
      ]
     },
     "execution_count": 48,
     "metadata": {},
     "output_type": "execute_result"
    }
   ],
   "source": [
    "np.where(np.multiply(arr2[:,0,0] == [1,6][0], arr2[:,0,1] == [1,6][1]))"
   ]
  },
  {
   "cell_type": "code",
   "execution_count": null,
   "id": "c3ea047a",
   "metadata": {},
   "outputs": [],
   "source": []
  }
 ],
 "metadata": {
  "kernelspec": {
   "display_name": "Python 3 (ipykernel)",
   "language": "python",
   "name": "python3"
  },
  "language_info": {
   "codemirror_mode": {
    "name": "ipython",
    "version": 3
   },
   "file_extension": ".py",
   "mimetype": "text/x-python",
   "name": "python",
   "nbconvert_exporter": "python",
   "pygments_lexer": "ipython3",
   "version": "3.8.11"
  }
 },
 "nbformat": 4,
 "nbformat_minor": 5
}
