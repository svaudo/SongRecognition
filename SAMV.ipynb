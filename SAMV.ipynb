{
 "cells": [
  {
   "cell_type": "code",
   "execution_count": 9,
   "id": "d351cde7",
   "metadata": {},
   "outputs": [],
   "source": [
    "import numpy as np\n",
    "import matplotlib.pyplot as plt\n",
    "from IPython.display import Audio\n",
    "from typing import Tuple\n",
    "import librosa\n",
    "from microphone import record_audio\n",
    "\n",
    "%matplotlib notebook"
   ]
  },
  {
   "cell_type": "code",
   "execution_count": 13,
   "id": "abacfbf2",
   "metadata": {},
   "outputs": [],
   "source": [
    "#Create functions for converting all variety of audio recordings into a NumPy-array of digital samples.\n",
    "\n",
    "def from_mp3(local_song_path: str, length: float, sr: int):\n",
    "    #Gets MP3 from disk\n",
    "    samples, sample_rate = librosa.load(local_song_path, sr=sr, mono=True, duration=length)\n",
    "    \n",
    "    #Turns MP3 into .npy file and saves to disk\n",
    "    samples = np.hstack([np.frombuffer(i, np.int16) for i in samples])\n",
    "    array = np.hstack((sample_rate, samples)) #sample rate is first\n",
    "    \n",
    "    return array\n",
    "\n",
    "def from_recording(length: float, sr: int):\n",
    "    samples, sample_rate = record_audio(length)\n",
    "    \n",
    "    #Turns MP3 into .npy file and saves to disk\n",
    "    samples = np.hstack([np.frombuffer(i, np.int16) for i in samples])\n",
    "    array = np.hstack((sample_rate, samples)) #sample rate is first\n",
    "    \n",
    "    return array\n",
    "\n",
    "print(from_mp3(\"JimiHendrixLittleWing.mp3\", 11, 44100))\n",
    "print(from_recording(11,44100))"
   ]
  },
  {
   "cell_type": "code",
   "execution_count": null,
   "id": "b49b9c08",
   "metadata": {},
   "outputs": [],
   "source": [
    "#Devise a scheme for organizing song metadata, e.g. associating song titles and artist names with a recording, \n",
    "#and associating these with unique song-IDs to be used within the database.\n",
    "\n"
   ]
  }
 ],
 "metadata": {
  "kernelspec": {
   "display_name": "Python 3 (ipykernel)",
   "language": "python",
   "name": "python3"
  },
  "language_info": {
   "codemirror_mode": {
    "name": "ipython",
    "version": 3
   },
   "file_extension": ".py",
   "mimetype": "text/x-python",
   "name": "python",
   "nbconvert_exporter": "python",
   "pygments_lexer": "ipython3",
   "version": "3.8.11"
  }
 },
 "nbformat": 4,
 "nbformat_minor": 5
}
