{
 "cells": [
  {
   "cell_type": "code",
   "execution_count": 9,
   "id": "d351cde7",
   "metadata": {},
   "outputs": [],
   "source": [
    "import numpy as np\n",
    "import matplotlib.pyplot as plt\n",
    "from IPython.display import Audio\n",
    "from typing import Tuple\n",
    "import librosa\n",
    "from microphone import record_audio\n",
    "\n",
    "%matplotlib notebook"
   ]
  },
  {
   "cell_type": "code",
   "execution_count": 12,
   "id": "abacfbf2",
   "metadata": {},
   "outputs": [],
   "source": [
    "#Create functions for converting all variety of audio recordings into a NumPy-array of digital samples.\n",
    "\n",
    "def from_mp3(local_song_path: str, length: float, sr: int):\n",
    "    #Gets MP3 from disk\n",
    "    samples, sample_rate = librosa.load(local_song_path, sr=sr, mono=True, duration=length)\n",
    "    \n",
    "    #Turns MP3 into .npy file and saves to disk\n",
    "    samples = np.hstack([np.frombuffer(i, np.int16) for i in samples])\n",
    "    array = np.hstack((sample_rate, samples)) #sample rate is first\n",
    "    \n",
    "    return array\n",
    "\n",
    "def from_recording(length: float, sr: int):\n",
    "    samples, sample_rate = record_audio(length)\n",
    "    \n",
    "    #Turns MP3 into .npy file and saves to disk\n",
    "    samples = np.hstack([np.frombuffer(i, np.int16) for i in samples])\n",
    "    array = np.hstack((sample_rate, samples)) #sample rate is first\n",
    "    \n",
    "    return array\n",
    "\n",
    "#print(from_mp3(\"JimiHendrixLittleWing.mp3\", 11, 44100))\n",
    "#print(from_recording(11,44100))"
   ]
  },
  {
   "cell_type": "code",
   "execution_count": 13,
   "id": "0039f27e",
   "metadata": {},
   "outputs": [
    {
     "data": {
      "text/plain": [
       "{'Little Wing Jimi Hendrix': ('Little Wing', 'Jimi Hendrix')}"
      ]
     },
     "execution_count": 13,
     "metadata": {},
     "output_type": "execute_result"
    }
   ],
   "source": [
    "#Devise a scheme for organizing song metadata, e.g. associating song titles and artist names with a recording, \n",
    "#and associating these with unique song-IDs to be used within the database.\n",
    "\n",
    "database_names = {}\n",
    "\n",
    "def add_to_DB(database: dict, song_name: str, artist: str):\n",
    "    database[len(database)+1] = (song_name,artist)\n",
    "    \n",
    "def get_all(ex_dict: dict):\n",
    "    # ex_dict is the dictionary which stores a tuple of songs and artists as the value of keys which are ids.\n",
    "    return [ex_dict[i] for i in range(1,len(ex_dict)+1)]\n",
    "    # i refers to the id number, range begins at 1 and len is added by 1 because id begins (here at least) with 1, not 0. \n",
    "\n",
    "def get_song_names(ex_dict: dict):\n",
    "    return [ex_dict[i][0] for i in range(1, len(ex_dict)+1)]\n",
    "\n",
    "def get_artists(ex_dict: dict):\n",
    "    return [ex_dict[i][1] for i in range(1, len(ex_dict)+1)]\n"
   ]
  },
  {
   "cell_type": "code",
   "execution_count": 30,
   "id": "51724be4",
   "metadata": {},
   "outputs": [],
   "source": [
    "#Write the core functionality for storing fingerprints in the database, \n",
    "#as well as querying the database and tallying the results of the query.\n",
    "\n",
    "database_fingerprints = {}\n",
    "\n",
    "def add_to_DBF(fingerprint_arr: tuple, time_occured: float,  song_ID: str):\n",
    "    if (fingerprint_arr in database_fingerprints.keys()):\n",
    "        database_fingerprints[fingerprint_arr] = (database_fingerprints[fingerprint_arr],(song_ID, time_occured))\n",
    "    else:\n",
    "        database_fingerprints[fingerprint_arr] = ((song_ID, time_occured))\n",
    "#add_to_DBF(tuple(np.array([0,0,0,0])) ,0, \"Little Wing Jimi Hendrix\" )\n",
    "#add_to_DBF(tuple(np.array([0,0,0,0])) ,1, \"Little Wing Jimi Hendrix\" )\n",
    "#database_fingerprints"
   ]
  },
  {
   "cell_type": "code",
   "execution_count": null,
   "id": "a993953d",
   "metadata": {},
   "outputs": [],
   "source": []
  }
 ],
 "metadata": {
  "kernelspec": {
   "display_name": "Python 3 (ipykernel)",
   "language": "python",
   "name": "python3"
  },
  "language_info": {
   "codemirror_mode": {
    "name": "ipython",
    "version": 3
   },
   "file_extension": ".py",
   "mimetype": "text/x-python",
   "name": "python",
   "nbconvert_exporter": "python",
   "pygments_lexer": "ipython3",
   "version": "3.8.11"
  }
 },
 "nbformat": 4,
 "nbformat_minor": 5
}
